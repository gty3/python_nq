{
 "cells": [
  {
   "cell_type": "code",
   "execution_count": 54,
   "id": "fdc8c8dd",
   "metadata": {},
   "outputs": [
    {
     "name": "stderr",
     "output_type": "stream",
     "text": [
      "2024-06-11 21:17:15,784 - INFO     - Initialized Historical(gateway=https://hist.databento.com)\n"
     ]
    }
   ],
   "source": [
    "# Cell 1: Data Retrieval\n",
    "\n",
    "# We import 3 datasets:\n",
    "# 1. The NQ contract data\n",
    "# 2. The Nasdaq 100 instruments\n",
    "# 3. The OHLCV data for the underlying asset - to display chart\n",
    "\n",
    "import databento as db\n",
    "import os\n",
    "import mplfinance as mpf\n",
    "import numpy as np\n",
    "\n",
    "api_key = os.environ.get('DATA_BENTO_API_KEY')\n",
    "# Change the variables below to view performance with different time frames and instruments\n",
    "# The NQM4 trades between 2023-03-17 and 2024-06-21\n",
    "# The Nasdaq trades on weekdays from 13:30 to 20:00 UTC\n",
    "# Note: 5 minutes of data is roughly 5MB\n",
    "start_time = \"2024-06-07T13:30:00\"\n",
    "end_time = \"2024-06-07T13:34:00\"\n",
    "# CME Globex market\n",
    "dataset = 'GLBX.MDP3'\n",
    "# June E-mini-Nasdaq-100, c.0 is Databento's smart symbology for front month, \n",
    "symbols = ['NQ.c.0']\n",
    "# symbology format must be 'continuous' for the previous contract\n",
    "symbology_type = \"continuous\"\n",
    "# NASDAQ market\n",
    "underlying_dataset = 'XNAS.ITCH'\n",
    "underlying_symbols = [\n",
    "    \"MSFT\", \"AAPL\", \"NVDA\", \"AMZN\", \"META\", \"AVGO\", \"GOOGL\", \"COST\", \"GOOG\", \"TSLA\",\n",
    "    \"AMD\", \"NFLX\", \"PEP\", \"ADBE\", \"LIN\", \"CSCO\", \"TMUS\", \"QCOM\", \"INTU\", \"INTC\",\n",
    "    \"CMCSA\", \"AMAT\", \"TXN\", \"AMGN\", \"ISRG\", \"HON\", \"LRCX\", \"BKNG\", \"VRTX\", \"MU\",\n",
    "    \"SBUX\", \"REGN\", \"ADP\", \"MDLZ\", \"ADI\", \"KLAC\", \"GILD\", \"PANW\", \"SNPS\", \"PDD\",\n",
    "    \"CDNS\", \"ASML\", \"MELI\", \"CRWD\", \"CSX\", \"MAR\", \"ABNB\", \"PYPL\", \"ORLY\", \"CTAS\",\n",
    "    \"PCAR\", \"MNST\", \"NXPI\", \"ROP\", \"WDAY\", \"LULU\", \"MRVL\", \"ADSK\", \"CEG\", \"CPRT\",\n",
    "    \"DASH\", \"FTNT\", \"DXCM\", \"ROST\", \"MCHP\", \"ODFL\", \"FAST\", \"PAYX\", \"IDXX\", \"AEP\",\n",
    "    \"CHTR\", \"KHC\", \"GEHC\", \"KDP\", \"MRNA\", \"CSGP\", \"AZN\", \"DDOG\", \"CTSH\", \"TTD\",\n",
    "    \"EXC\", \"EA\", \"FANG\", \"VRSK\", \"CDW\", \"BKR\", \"CCEP\", \"ON\", \"BIIB\", \"TEAM\",\n",
    "    \"ANSS\", \"ZS\", \"XEL\", \"GFS\", \"DLTR\", \"MDB\", \"TTWO\", \"WBD\", \"ILMN\", \"WBA\", \"SIRI\"\n",
    "    ]\n",
    "# Schema Docs - https://databento.com/docs/knowledge-base/new-users/fields-by-schema\n",
    "\n",
    "# Changing the variables below can have breaking changes\n",
    "# \"Top of Book Bid and Offer\"\n",
    "orders_schema = \"tbbo\"\n",
    "# Modify the chart_schema and order_frequency together for plotting to work\n",
    "# \"Open High Low Close Volume - 1 second\"\n",
    "chart_schema = \"ohlcv-1s\"\n",
    "# Frequency of the orders, \"Seconds\"\n",
    "order_frequency = \"S\"\n",
    "\n",
    "# Get historical data from Databento\n",
    "client = db.Historical(api_key)\n",
    "\n",
    "# Get the data and convert to dataframes\n",
    "underlying_df = client.timeseries.get_range(\n",
    "    dataset=underlying_dataset,\n",
    "    symbols=underlying_symbols,\n",
    "    schema=orders_schema,\n",
    "    start=start_time,\n",
    "    end=end_time,\n",
    ").to_df()\n",
    "\n",
    "nq_df = client.timeseries.get_range(\n",
    "    dataset=dataset,\n",
    "    stype_in=symbology_type,\n",
    "    stype_out=\"instrument_id\",\n",
    "    symbols=symbols,\n",
    "    schema=orders_schema,\n",
    "    start=start_time,\n",
    "    end=end_time,\n",
    ").to_df()\n",
    "\n",
    "nq_ohlc_df = client.timeseries.get_range(\n",
    "    dataset=dataset,\n",
    "    schema=chart_schema,\n",
    "    stype_in=symbology_type,\n",
    "    symbols=symbols,\n",
    "    start=start_time,\n",
    "    end=end_time,\n",
    ").to_df()"
   ]
  },
  {
   "cell_type": "code",
   "execution_count": 55,
   "id": "5527f13d-c8ee-42d5-83ae-71113023b6ec",
   "metadata": {},
   "outputs": [],
   "source": [
    "# Cell 2: Trade logic\n",
    "\n",
    "from trade_utils import prepare_dataframes, group_and_aggregate, create_trades_df, modify_trades, calculate_pnl\n",
    "\n",
    "# Add NQ bid / ask to all orders\n",
    "nq_and_underlying_df = prepare_dataframes(nq_df, underlying_df)\n",
    "# Group trade data in 1 second intervals\n",
    "grouped_df = group_and_aggregate(nq_and_underlying_df, order_frequency)\n",
    "# Create trades dataframe and add trades when conditions are met\n",
    "trades_df = create_trades_df(grouped_df, nq_ohlc_df)\n",
    "# Modify the trade dataframe to restrict to 1 contract open at a time\n",
    "modify_trades(trades_df)\n",
    "# Add a pnl and total_pnl column to the trades dataframe\n",
    "calculate_pnl(trades_df)\n"
   ]
  },
  {
   "cell_type": "code",
   "execution_count": 51,
   "id": "678acc8e",
   "metadata": {},
   "outputs": [
    {
     "data": {
      "text/html": [
       "\n",
       "        <iframe\n",
       "            width=\"100%\"\n",
       "            height=\"475\"\n",
       "            src=\"http://gty-XPS-15-9500:40000/dtale/iframe/1\"\n",
       "            frameborder=\"0\"\n",
       "            allowfullscreen\n",
       "            \n",
       "        ></iframe>\n",
       "        "
      ],
      "text/plain": [
       "<IPython.lib.display.IFrame at 0x7fad0b77fca0>"
      ]
     },
     "metadata": {},
     "output_type": "display_data"
    },
    {
     "data": {
      "text/plain": []
     },
     "execution_count": 51,
     "metadata": {},
     "output_type": "execute_result"
    }
   ],
   "source": [
    "# Cell 3: Visualize dataframes - this cell is optional and primarily used for debugging\n",
    "\n",
    "import dtale\n",
    "\n",
    "# Visualize various dataframes for analysis\n",
    "# grouped_df\n",
    "# nq_and_underlying_df\n",
    "# trades_df\n",
    "dtale.show(trades_df)"
   ]
  },
  {
   "cell_type": "code",
   "execution_count": 57,
   "id": "c077ec1b-7f3c-4d33-80d8-9d7f6321e434",
   "metadata": {},
   "outputs": [],
   "source": [
    "# Cell 4: Plot trades\n",
    "\n",
    "from chart_utils import format_chart_title, create_trade_scatter, create_pnl_plot\n",
    "# Take time and instrument parameters from Cell 1 to label the chart\n",
    "chart_title = format_chart_title(symbols, start_time, chart_schema)\n",
    "# Create separete scatter plots for buy and sell trades\n",
    "# \"B\" = Buy, \"S\" = Sell, 'g' = green, 'r' = red, '^', 'v' = scatter plot symbol\n",
    "buy_plot = create_trade_scatter(trades_df, 'B', 'g', '^')\n",
    "sell_plot = create_trade_scatter(trades_df, 'S', 'r', 'v')\n",
    "# Create a PNL line plot\n",
    "pnl_plot = create_pnl_plot(trades_df)\n",
    "\n",
    "mpf.plot(\n",
    "    nq_ohlc_df,\n",
    "    type=\"candle\",\n",
    "    title=chart_title,\n",
    "    ylabel=\"Price\",\n",
    "    xlabel=\"Time UTC\",\n",
    "    addplot=[buy_plot, sell_plot, pnl_plot],\n",
    ")\n",
    "\n"
   ]
  }
 ],
 "metadata": {
  "kernelspec": {
   "display_name": "Python 3 (ipykernel)",
   "language": "python",
   "name": "python3"
  },
  "language_info": {
   "codemirror_mode": {
    "name": "ipython",
    "version": 3
   },
   "file_extension": ".py",
   "mimetype": "text/x-python",
   "name": "python",
   "nbconvert_exporter": "python",
   "pygments_lexer": "ipython3",
   "version": "3.8.10"
  }
 },
 "nbformat": 4,
 "nbformat_minor": 5
}
